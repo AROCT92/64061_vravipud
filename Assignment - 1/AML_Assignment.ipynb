{
  "nbformat": 4,
  "nbformat_minor": 0,
  "metadata": {
    "colab": {
      "provenance": []
    },
    "kernelspec": {
      "name": "python3",
      "display_name": "Python 3"
    },
    "language_info": {
      "name": "python"
    }
  },
  "cells": [
    {
      "cell_type": "markdown",
      "source": [
        "**<center><b>Report: Movie Review Binary Classification</b></center>**\n",
        "\n",
        "This paper describes the creation of a Keras neural network for binary categorization of movie reviews from the IMDB movie reviews dataset. The neural network's aim is to identify whether an evaluation is favorable or negative.\n",
        "\n",
        "\n",
        "\n",
        "<u>**Problem Statment:**</u>\n",
        "\n",
        "The objective of this project is to use Keras to build a deep neural network to predict whether a review will be positive or negative.\n",
        "\n",
        "\n",
        "\n",
        "<u>**Dataset:**</u>\n",
        "\n",
        "\n",
        "The IMDB dataset contains 50,000 highly polarized movie reviews that have been split into two equal groups of 25,000 reviews each for training and testing. There are an equal amount of favorable and negative evaluations in each set. Keras includes this dataset, which contains reviews and the labels that go with them, with 0 indicating a negative review and 1 reflecting a good review. The evaluations take the shape of a series of words that have been pre-processed into a series of numbers, each integer signifying a different word from the dictionary.\n",
        "\n",
        "\n",
        "<u>**Methodology:**</u>\n",
        "\n",
        "To create the neural network, we used Python's Keras framework. First, the dataset was split into training and test groups. The data was then loaded, with only the 10,000 most commonly appearing terms retained. The evaluations were then decoded to their original text using a lexicon mapping from word to integer value.\n",
        "\n",
        "\n",
        "\n",
        "A sequential model was then developed, consisting of an embedding layer that takes the integer-encoded vocabulary and translates each word to a feature vector of a given size. This was followed by a dense layer with 16 hidden units and the ReLU activation function, which was then linked to an output layer with a sigmoid activation function to generate a chance between 0 and 1. The model was built with binary cross-entropy as the loss function, the RMSprop optimizer, and accuracy as the assessment measure.\n",
        "\n",
        "\n"
      ],
      "metadata": {
        "id": "DSKaCs0Yp49q"
      }
    },
    {
      "cell_type": "markdown",
      "source": [
        "Loading the IMDB dataset"
      ],
      "metadata": {
        "id": "RSo16v-7yUm_"
      }
    },
    {
      "cell_type": "code",
      "execution_count": null,
      "metadata": {
        "id": "l8vTJVdfxJ3l"
      },
      "outputs": [],
      "source": [
        "# importing libraries\n",
        "\n",
        "import matplotlib\n",
        "import matplotlib.pyplot as plt\n",
        "import numpy as np\n",
        "from keras import models\n",
        "from keras import layers"
      ]
    },
    {
      "cell_type": "markdown",
      "source": [
        "Dataset is divided into train data and test data\n",
        "\n",
        "Data is loaded and 10,000 most frequently occuring words are kept"
      ],
      "metadata": {
        "id": "ukbXu9VBznIC"
      }
    },
    {
      "cell_type": "code",
      "source": [
        "from tensorflow.keras.datasets import imdb\n",
        "(train_data, train_labels), (test_data, test_labels) = imdb.load_data(\n",
        "    num_words=10000)"
      ],
      "metadata": {
        "colab": {
          "base_uri": "https://localhost:8080/"
        },
        "id": "xmbTYWBiz00w",
        "outputId": "d86ba7e6-ac34-4258-bb99-842023fb0329"
      },
      "execution_count": null,
      "outputs": [
        {
          "output_type": "stream",
          "name": "stdout",
          "text": [
            "Downloading data from https://storage.googleapis.com/tensorflow/tf-keras-datasets/imdb.npz\n",
            "17464789/17464789 [==============================] - 0s 0us/step\n"
          ]
        }
      ]
    },
    {
      "cell_type": "markdown",
      "source": [
        "Printing training data first review\n",
        "\n"
      ],
      "metadata": {
        "id": "0ZED7hzF0DWQ"
      }
    },
    {
      "cell_type": "code",
      "source": [
        "train_data[0]\n"
      ],
      "metadata": {
        "colab": {
          "base_uri": "https://localhost:8080/"
        },
        "id": "isXoX6ts0EbW",
        "outputId": "6a50a9b3-8cc6-4928-d23e-fa1eb0257d3a"
      },
      "execution_count": null,
      "outputs": [
        {
          "output_type": "execute_result",
          "data": {
            "text/plain": [
              "[1,\n",
              " 14,\n",
              " 22,\n",
              " 16,\n",
              " 43,\n",
              " 530,\n",
              " 973,\n",
              " 1622,\n",
              " 1385,\n",
              " 65,\n",
              " 458,\n",
              " 4468,\n",
              " 66,\n",
              " 3941,\n",
              " 4,\n",
              " 173,\n",
              " 36,\n",
              " 256,\n",
              " 5,\n",
              " 25,\n",
              " 100,\n",
              " 43,\n",
              " 838,\n",
              " 112,\n",
              " 50,\n",
              " 670,\n",
              " 2,\n",
              " 9,\n",
              " 35,\n",
              " 480,\n",
              " 284,\n",
              " 5,\n",
              " 150,\n",
              " 4,\n",
              " 172,\n",
              " 112,\n",
              " 167,\n",
              " 2,\n",
              " 336,\n",
              " 385,\n",
              " 39,\n",
              " 4,\n",
              " 172,\n",
              " 4536,\n",
              " 1111,\n",
              " 17,\n",
              " 546,\n",
              " 38,\n",
              " 13,\n",
              " 447,\n",
              " 4,\n",
              " 192,\n",
              " 50,\n",
              " 16,\n",
              " 6,\n",
              " 147,\n",
              " 2025,\n",
              " 19,\n",
              " 14,\n",
              " 22,\n",
              " 4,\n",
              " 1920,\n",
              " 4613,\n",
              " 469,\n",
              " 4,\n",
              " 22,\n",
              " 71,\n",
              " 87,\n",
              " 12,\n",
              " 16,\n",
              " 43,\n",
              " 530,\n",
              " 38,\n",
              " 76,\n",
              " 15,\n",
              " 13,\n",
              " 1247,\n",
              " 4,\n",
              " 22,\n",
              " 17,\n",
              " 515,\n",
              " 17,\n",
              " 12,\n",
              " 16,\n",
              " 626,\n",
              " 18,\n",
              " 2,\n",
              " 5,\n",
              " 62,\n",
              " 386,\n",
              " 12,\n",
              " 8,\n",
              " 316,\n",
              " 8,\n",
              " 106,\n",
              " 5,\n",
              " 4,\n",
              " 2223,\n",
              " 5244,\n",
              " 16,\n",
              " 480,\n",
              " 66,\n",
              " 3785,\n",
              " 33,\n",
              " 4,\n",
              " 130,\n",
              " 12,\n",
              " 16,\n",
              " 38,\n",
              " 619,\n",
              " 5,\n",
              " 25,\n",
              " 124,\n",
              " 51,\n",
              " 36,\n",
              " 135,\n",
              " 48,\n",
              " 25,\n",
              " 1415,\n",
              " 33,\n",
              " 6,\n",
              " 22,\n",
              " 12,\n",
              " 215,\n",
              " 28,\n",
              " 77,\n",
              " 52,\n",
              " 5,\n",
              " 14,\n",
              " 407,\n",
              " 16,\n",
              " 82,\n",
              " 2,\n",
              " 8,\n",
              " 4,\n",
              " 107,\n",
              " 117,\n",
              " 5952,\n",
              " 15,\n",
              " 256,\n",
              " 4,\n",
              " 2,\n",
              " 7,\n",
              " 3766,\n",
              " 5,\n",
              " 723,\n",
              " 36,\n",
              " 71,\n",
              " 43,\n",
              " 530,\n",
              " 476,\n",
              " 26,\n",
              " 400,\n",
              " 317,\n",
              " 46,\n",
              " 7,\n",
              " 4,\n",
              " 2,\n",
              " 1029,\n",
              " 13,\n",
              " 104,\n",
              " 88,\n",
              " 4,\n",
              " 381,\n",
              " 15,\n",
              " 297,\n",
              " 98,\n",
              " 32,\n",
              " 2071,\n",
              " 56,\n",
              " 26,\n",
              " 141,\n",
              " 6,\n",
              " 194,\n",
              " 7486,\n",
              " 18,\n",
              " 4,\n",
              " 226,\n",
              " 22,\n",
              " 21,\n",
              " 134,\n",
              " 476,\n",
              " 26,\n",
              " 480,\n",
              " 5,\n",
              " 144,\n",
              " 30,\n",
              " 5535,\n",
              " 18,\n",
              " 51,\n",
              " 36,\n",
              " 28,\n",
              " 224,\n",
              " 92,\n",
              " 25,\n",
              " 104,\n",
              " 4,\n",
              " 226,\n",
              " 65,\n",
              " 16,\n",
              " 38,\n",
              " 1334,\n",
              " 88,\n",
              " 12,\n",
              " 16,\n",
              " 283,\n",
              " 5,\n",
              " 16,\n",
              " 4472,\n",
              " 113,\n",
              " 103,\n",
              " 32,\n",
              " 15,\n",
              " 16,\n",
              " 5345,\n",
              " 19,\n",
              " 178,\n",
              " 32]"
            ]
          },
          "metadata": {},
          "execution_count": 3
        }
      ]
    },
    {
      "cell_type": "code",
      "source": [
        "# Check the first label\n",
        "\n",
        "train_labels[0]\n"
      ],
      "metadata": {
        "colab": {
          "base_uri": "https://localhost:8080/"
        },
        "id": "6fq6W_pZ0QeK",
        "outputId": "b7edee49-9e06-42fb-de99-c240cd7aac93"
      },
      "execution_count": null,
      "outputs": [
        {
          "output_type": "execute_result",
          "data": {
            "text/plain": [
              "1"
            ]
          },
          "metadata": {},
          "execution_count": 4
        }
      ]
    },
    {
      "cell_type": "code",
      "source": [
        "# 10000 frequent words are taken into account and  word index should not be exceeded to the frequent word count.\n",
        "\n",
        "# Finding the max of all the max indexes\n",
        "max([max(sequence) for sequence in train_data])"
      ],
      "metadata": {
        "colab": {
          "base_uri": "https://localhost:8080/"
        },
        "id": "FpihxtvH0d_G",
        "outputId": "00d94bb8-3067-4ad5-bcab-60d7e750584a"
      },
      "execution_count": null,
      "outputs": [
        {
          "output_type": "execute_result",
          "data": {
            "text/plain": [
              "9999"
            ]
          },
          "metadata": {},
          "execution_count": 5
        }
      ]
    },
    {
      "cell_type": "markdown",
      "source": [
        "Decoding movie reviews back to text\n",
        "\n"
      ],
      "metadata": {
        "id": "oVU4CTmI0paS"
      }
    },
    {
      "cell_type": "code",
      "source": [
        "#Loading the mappings from word to integer index and reverse the word index to integer  and then decode the review by mapping integer to word\n",
        "\n",
        "# step 1: Load the mappings of the dictionary from the word to integer index\n",
        "word_index = imdb.get_word_index()\n",
        "\n",
        "# step 2: reverse word index to integer mapping \n",
        "reverse_word_index = dict(\n",
        "    [(value, key) for (key, value) in word_index.items()])\n",
        "\n",
        "# step 3: Decode the review, mapping integer to words\n",
        "decoded_review = \" \".join(\n",
        "    [reverse_word_index.get(i - 3, \"?\") for i in train_data[0]])\n",
        "decoded_review"
      ],
      "metadata": {
        "colab": {
          "base_uri": "https://localhost:8080/",
          "height": 178
        },
        "id": "QZin1uo00qkW",
        "outputId": "4a4d36f4-b2b1-40b6-8550-098b083d9aa7"
      },
      "execution_count": null,
      "outputs": [
        {
          "output_type": "stream",
          "name": "stdout",
          "text": [
            "Downloading data from https://storage.googleapis.com/tensorflow/tf-keras-datasets/imdb_word_index.json\n",
            "1641221/1641221 [==============================] - 0s 0us/step\n"
          ]
        },
        {
          "output_type": "execute_result",
          "data": {
            "text/plain": [
              "\"? this film was just brilliant casting location scenery story direction everyone's really suited the part they played and you could just imagine being there robert ? is an amazing actor and now the same being director ? father came from the same scottish island as myself so i loved the fact there was a real connection with this film the witty remarks throughout the film were great it was just brilliant so much that i bought the film as soon as it was released for ? and would recommend it to everyone to watch and the fly fishing was amazing really cried at the end it was so sad and you know what they say if you cry at a film it must have been good and this definitely was also ? to the two little boy's that played the ? of norman and paul they were just brilliant children are often left out of the ? list i think because the stars that play them all grown up are such a big profile for the whole film but these children are amazing and should be praised for what they have done don't you think the whole story was so lovely because it was true and was someone's life after all that was shared with us all\""
            ],
            "application/vnd.google.colaboratory.intrinsic+json": {
              "type": "string"
            }
          },
          "metadata": {},
          "execution_count": 6
        }
      ]
    },
    {
      "cell_type": "code",
      "source": [
        "len(reverse_word_index)"
      ],
      "metadata": {
        "colab": {
          "base_uri": "https://localhost:8080/"
        },
        "id": "bteFxIvY00Rc",
        "outputId": "4ca6e083-02bd-424b-c364-32004be26b1a"
      },
      "execution_count": null,
      "outputs": [
        {
          "output_type": "execute_result",
          "data": {
            "text/plain": [
              "88584"
            ]
          },
          "metadata": {},
          "execution_count": 7
        }
      ]
    },
    {
      "cell_type": "markdown",
      "source": [
        "**<u>Preparing the data:</u>**\n",
        "\n",
        "\n",
        "* Our deep convolutional neural network cannot be provided a list of numbers. We'll have to transform them into tensors.\n",
        "* To prepare our data, we'll use One-hot Encoding to transform our lists into vectors of 0s and 1s. Each of our sequences would be blown up into 10,000-dimensional vectors with 1 at all positions connecting all numbers in the sequence. \n",
        "* This vector will contain the element 0 for all values that are not in integer order.Simply put, each evaluation will be symbolized by a 10,000-dimensional vector.Each index correlates to a particular phrase.\n",
        "* Every index with the value 1 indicates a term in the review that is marked by its integer equivalent. Every number that begins with 0 is a name.\n",
        "\n"
      ],
      "metadata": {
        "id": "tdwtO5ey049b"
      }
    },
    {
      "cell_type": "code",
      "source": [
        "import numpy as np\n",
        "def vectorize_sequences(sequences, dimension=10000):\n",
        "    results = np.zeros((len(sequences), dimension))                   \n",
        "    for i, sequence in enumerate(sequences):\n",
        "        for j in sequence:\n",
        "            results[i, j] = 1                                 \n",
        "    return results\n",
        "\n",
        "# Vectorizing the training and test data\n",
        "x_train = vectorize_sequences(train_data)\n",
        "x_test = vectorize_sequences(test_data)"
      ],
      "metadata": {
        "id": "XnR1VuYD058g"
      },
      "execution_count": null,
      "outputs": []
    },
    {
      "cell_type": "code",
      "source": [
        "x_train[0]"
      ],
      "metadata": {
        "colab": {
          "base_uri": "https://localhost:8080/"
        },
        "id": "43aM-3sz1D8Y",
        "outputId": "5c563bf8-aa5f-4984-ba37-eaf51e96dd5f"
      },
      "execution_count": null,
      "outputs": [
        {
          "output_type": "execute_result",
          "data": {
            "text/plain": [
              "array([0., 1., 1., ..., 0., 0., 0.])"
            ]
          },
          "metadata": {},
          "execution_count": 9
        }
      ]
    },
    {
      "cell_type": "code",
      "source": [
        "x_train.shape\n"
      ],
      "metadata": {
        "colab": {
          "base_uri": "https://localhost:8080/"
        },
        "id": "rcTXNEi-1HI0",
        "outputId": "6f0ee962-804f-44d5-9bbb-174c89b7793e"
      },
      "execution_count": null,
      "outputs": [
        {
          "output_type": "execute_result",
          "data": {
            "text/plain": [
              "(25000, 10000)"
            ]
          },
          "metadata": {},
          "execution_count": 10
        }
      ]
    },
    {
      "cell_type": "code",
      "source": [
        "y_train = np.asarray(train_labels).astype(\"float32\")\n",
        "y_test = np.asarray(test_labels).astype(\"float32\")"
      ],
      "metadata": {
        "id": "lT5S7nbo1Ktz"
      },
      "execution_count": null,
      "outputs": []
    },
    {
      "cell_type": "markdown",
      "source": [
        "<u>**Making the model:**</u>\n",
        "\n",
        "Our initial dataset was made up of vectors that needed to be transformed to encoder labels (0s and 1s). This is one of the most fundamental configurations, and a basic stack of completely linked Dense layers with relu activation works well.\n",
        "\n",
        "<u>**Hidden Layers:**</u>\n",
        "\n",
        "* In this network, we'll use concealed levels. As a result, we'll categorize our levels.\n",
        "\n",
        "* Dense(16,'relu' activation) The parameter given to each Dense layer specifies the number of concealed units of a layer (16).\n",
        "\n",
        "* The output of a Dense layer with relu activation is produced after a sequence of tensor processes. The following is how this procedure is carried out:\n",
        "\n",
        "* relu(dot(W, input) Plus b) output W is the weight matrix, and b is the skew (tensor).\n",
        "\n",
        "* If there are 16 concealed units, the matrix W will have the form (_inputDimension, 16). The dimension of the input vector in this situation is 10,000, and the construction of the Weight matrix is (10000, 16). If this network were depicted as a graph, it would have 16 nodes.\n",
        "\n",
        "<u>**Architecture of the Model**</u>\n",
        "\n",
        "We will be utilizing the for our example.\n",
        "\n",
        "* Two intermediary levels, each with 16 hidden layers, employ the relu activation function, which is used to zero out negative numbers.\n",
        "\n",
        "* The output layer, which employs sigmoid activation, will be the third layer"
      ],
      "metadata": {
        "id": "dP4OgPrA7R3f"
      }
    },
    {
      "cell_type": "code",
      "source": [
        "from tensorflow import keras\n",
        "from tensorflow.keras import layers\n",
        "\n",
        "model = keras.Sequential([\n",
        "    layers.Dense(16, activation=\"relu\"),\n",
        "    layers.Dense(16, activation=\"relu\"),\n",
        "    layers.Dense(1, activation=\"sigmoid\")\n",
        "])"
      ],
      "metadata": {
        "id": "rOFnYIsJ1RTE"
      },
      "execution_count": null,
      "outputs": []
    },
    {
      "cell_type": "markdown",
      "source": [
        "<b>**Compiling the model:**</b>\n",
        "\n",
        "We will look at the optimizer, loss function, and data during the compilation phase.\n",
        "\n",
        "The following methods will be used in this case.\n",
        "\n",
        "* The binary crossentropy loss function is employed in binary categorization.\n",
        "rmsprop is the algorithm used.\n",
        "* Accuracy is used to assess success.\n",
        "* Because keras includes all of the rmsprop, binary crossentropy, and accuracy functions, the above methods can be used to build the model.\n",
        "\n",
        "model.compile(rmsprop, loss=\"binary crossentropy\", metrics=\"accuracy\"])\n",
        "\n"
      ],
      "metadata": {
        "id": "UvGdUJ7W1WVB"
      }
    },
    {
      "cell_type": "code",
      "source": [
        "model.compile(optimizer=\"rmsprop\",\n",
        "              loss=\"binary_crossentropy\",\n",
        "              metrics=[\"accuracy\"])"
      ],
      "metadata": {
        "id": "j-ySxr4v1XCQ"
      },
      "execution_count": null,
      "outputs": []
    },
    {
      "cell_type": "markdown",
      "source": [
        "**<b>Setting aside a validation set</b>**\n",
        "\n",
        "We'll save some of our training data to test the model's accuracy as it advances. A validation set enables businesses to track our model's development through epochs during training on previously unknown data.\n",
        "\n",
        "* We can fine-tune the model's training settings using validation stages.\n",
        "\n",
        "* To avoid data overfitting and underfitting, use the fit tool.\n",
        "\n"
      ],
      "metadata": {
        "id": "2y7jJA3e1cRb"
      }
    },
    {
      "cell_type": "code",
      "source": [
        "x_val = x_train[:10000]\n",
        "partial_x_train = x_train[10000:]\n",
        "y_val = y_train[:10000]\n",
        "partial_y_train = y_train[10000:]"
      ],
      "metadata": {
        "id": "P-eYYfJC1elT"
      },
      "execution_count": null,
      "outputs": []
    },
    {
      "cell_type": "markdown",
      "source": [
        "**<b>Training the model</b>**\n",
        "\n",
        "For the first 20 epochs, we'll train our models in 512-sample mini-batches. Our confirmation collection will also be used by the fit technique.\n",
        "\n",
        "When invoked, the fit method will return a History object. This object has a member history that contains all training process information, including the values of visible or tracked quantities as the epochs advance. This object will be saved so that we can better determine how to fine-tune the training process.\n",
        "\n"
      ],
      "metadata": {
        "id": "mjVqZuXc1h9i"
      }
    },
    {
      "cell_type": "code",
      "source": [
        "\n",
        "history = model.fit(partial_x_train,\n",
        "                    partial_y_train,\n",
        "                    epochs=20,\n",
        "                    batch_size=512,\n",
        "                    validation_data=(x_val, y_val))"
      ],
      "metadata": {
        "colab": {
          "base_uri": "https://localhost:8080/"
        },
        "id": "MzGklGA-1lmK",
        "outputId": "8df206c5-d6fc-4626-83dc-16016c554896"
      },
      "execution_count": null,
      "outputs": [
        {
          "output_type": "stream",
          "name": "stdout",
          "text": [
            "Epoch 1/20\n",
            "30/30 [==============================] - 4s 74ms/step - loss: 0.5250 - accuracy: 0.7859 - val_loss: 0.4109 - val_accuracy: 0.8490\n",
            "Epoch 2/20\n",
            "30/30 [==============================] - 1s 40ms/step - loss: 0.3291 - accuracy: 0.8950 - val_loss: 0.3196 - val_accuracy: 0.8829\n",
            "Epoch 3/20\n",
            "30/30 [==============================] - 1s 40ms/step - loss: 0.2505 - accuracy: 0.9179 - val_loss: 0.2872 - val_accuracy: 0.8878\n",
            "Epoch 4/20\n",
            "30/30 [==============================] - 1s 35ms/step - loss: 0.2045 - accuracy: 0.9321 - val_loss: 0.2773 - val_accuracy: 0.8897\n",
            "Epoch 5/20\n",
            "30/30 [==============================] - 1s 38ms/step - loss: 0.1704 - accuracy: 0.9442 - val_loss: 0.2866 - val_accuracy: 0.8831\n",
            "Epoch 6/20\n",
            "30/30 [==============================] - 1s 38ms/step - loss: 0.1455 - accuracy: 0.9541 - val_loss: 0.2867 - val_accuracy: 0.8853\n",
            "Epoch 7/20\n",
            "30/30 [==============================] - 1s 39ms/step - loss: 0.1271 - accuracy: 0.9605 - val_loss: 0.2910 - val_accuracy: 0.8856\n",
            "Epoch 8/20\n",
            "30/30 [==============================] - 1s 37ms/step - loss: 0.1081 - accuracy: 0.9689 - val_loss: 0.3146 - val_accuracy: 0.8834\n",
            "Epoch 9/20\n",
            "30/30 [==============================] - 2s 52ms/step - loss: 0.0966 - accuracy: 0.9715 - val_loss: 0.3561 - val_accuracy: 0.8730\n",
            "Epoch 10/20\n",
            "30/30 [==============================] - 2s 65ms/step - loss: 0.0828 - accuracy: 0.9787 - val_loss: 0.3327 - val_accuracy: 0.8821\n",
            "Epoch 11/20\n",
            "30/30 [==============================] - 1s 40ms/step - loss: 0.0723 - accuracy: 0.9801 - val_loss: 0.3506 - val_accuracy: 0.8766\n",
            "Epoch 12/20\n",
            "30/30 [==============================] - 1s 38ms/step - loss: 0.0642 - accuracy: 0.9836 - val_loss: 0.3645 - val_accuracy: 0.8798\n",
            "Epoch 13/20\n",
            "30/30 [==============================] - 1s 40ms/step - loss: 0.0546 - accuracy: 0.9868 - val_loss: 0.3832 - val_accuracy: 0.8771\n",
            "Epoch 14/20\n",
            "30/30 [==============================] - 1s 39ms/step - loss: 0.0482 - accuracy: 0.9885 - val_loss: 0.4045 - val_accuracy: 0.8741\n",
            "Epoch 15/20\n",
            "30/30 [==============================] - 1s 39ms/step - loss: 0.0408 - accuracy: 0.9918 - val_loss: 0.4564 - val_accuracy: 0.8684\n",
            "Epoch 16/20\n",
            "30/30 [==============================] - 1s 40ms/step - loss: 0.0361 - accuracy: 0.9929 - val_loss: 0.4483 - val_accuracy: 0.8731\n",
            "Epoch 17/20\n",
            "30/30 [==============================] - 1s 40ms/step - loss: 0.0298 - accuracy: 0.9949 - val_loss: 0.4687 - val_accuracy: 0.8716\n",
            "Epoch 18/20\n",
            "30/30 [==============================] - 1s 39ms/step - loss: 0.0256 - accuracy: 0.9961 - val_loss: 0.4942 - val_accuracy: 0.8714\n",
            "Epoch 19/20\n",
            "30/30 [==============================] - 1s 47ms/step - loss: 0.0215 - accuracy: 0.9969 - val_loss: 0.5254 - val_accuracy: 0.8654\n",
            "Epoch 20/20\n",
            "30/30 [==============================] - 2s 54ms/step - loss: 0.0214 - accuracy: 0.9967 - val_loss: 0.5325 - val_accuracy: 0.8714\n"
          ]
        }
      ]
    },
    {
      "cell_type": "markdown",
      "source": [
        "* By the conclusion of the training, we had achieved a training accuracy of 99.99% and a confirmation accuracy of 86.80%.\n",
        "\n",
        "* The network's performance measurements are monitored and saved in the history object.\n",
        "\n",
        "* The match function returns a history object. This entity has a dictionary with four items as a property."
      ],
      "metadata": {
        "id": "pspvXDhG_bZ6"
      }
    },
    {
      "cell_type": "code",
      "source": [
        "\n",
        "history_dict = history.history\n",
        "history_dict.keys()"
      ],
      "metadata": {
        "colab": {
          "base_uri": "https://localhost:8080/"
        },
        "id": "UzM5N9uP1zoI",
        "outputId": "07da04a1-d04a-4c3c-a3a5-deac5061a919"
      },
      "execution_count": null,
      "outputs": [
        {
          "output_type": "execute_result",
          "data": {
            "text/plain": [
              "dict_keys(['loss', 'accuracy', 'val_loss', 'val_accuracy'])"
            ]
          },
          "metadata": {},
          "execution_count": 16
        }
      ]
    },
    {
      "cell_type": "markdown",
      "source": [
        "history_dict consists of\n",
        "\n",
        "* Training loss\n",
        "* Training Accuracy\n",
        "* Validation Loss\n",
        "* Validation Accuracy\n",
        "\n",
        "We're using Matplotlib to compare the loss and precision of Training and Validation."
      ],
      "metadata": {
        "id": "lT2Fo9gn_vfK"
      }
    },
    {
      "cell_type": "markdown",
      "source": [
        "Plotting the training and validation loss\n",
        "\n"
      ],
      "metadata": {
        "id": "AfiWg50b14fY"
      }
    },
    {
      "cell_type": "code",
      "source": [
        "# losses \n",
        "import matplotlib.pyplot as plt\n",
        "history_dict = history.history\n",
        "loss_values = history_dict[\"loss\"]             \n",
        "val_loss_values = history_dict[\"val_loss\"]\n",
        "epochs = range(1, len(loss_values) + 1)\n",
        "plt.plot(epochs, loss_values, \"bo\", label=\"Training loss\")\n",
        "plt.plot(epochs, val_loss_values, \"b\", label=\"Validation loss\")\n",
        "plt.title(\"Training and validation loss\")\n",
        "plt.xlabel(\"Epochs\")\n",
        "plt.ylabel(\"Loss\")\n",
        "plt.legend()\n",
        "plt.show()"
      ],
      "metadata": {
        "colab": {
          "base_uri": "https://localhost:8080/",
          "height": 295
        },
        "id": "rkJqvPb817c2",
        "outputId": "6d989db0-e728-4f83-b1ee-c015e77e63b0"
      },
      "execution_count": null,
      "outputs": [
        {
          "output_type": "display_data",
          "data": {
            "text/plain": [
              "<Figure size 432x288 with 1 Axes>"
            ],
            "image/png": "[encoded data removed]"
          },
          "metadata": {
            "needs_background": "light"
          }
        }
      ]
    },
    {
      "cell_type": "markdown",
      "source": [
        "Confirmation loss began to increase after the third era. As a result, the remodeling is carried out using the third and fourth epochs."
      ],
      "metadata": {
        "id": "U5p10D0s1_nD"
      }
    },
    {
      "cell_type": "markdown",
      "source": [
        "Plotting the training and validation accuracy\n",
        "\n"
      ],
      "metadata": {
        "id": "O4Cok6CS1_n2"
      }
    },
    {
      "cell_type": "code",
      "source": [
        "# accuracy \n",
        "plt.clf()\n",
        "acc = history_dict[\"accuracy\"]\n",
        "val_acc = history_dict[\"val_accuracy\"]                     \n",
        "plt.plot(epochs, acc, \"bo\", label=\"Training acc\")\n",
        "plt.plot(epochs, val_acc, \"b\", label=\"Validation acc\")\n",
        "plt.title(\"Training and validation accuracy\")\n",
        "plt.xlabel(\"Epochs\")\n",
        "plt.ylabel(\"Accuracy\")\n",
        "plt.legend()\n",
        "plt.show()"
      ],
      "metadata": {
        "colab": {
          "base_uri": "https://localhost:8080/",
          "height": 295
        },
        "id": "oSO92mpu2CCm",
        "outputId": "e2ec72a6-9c6f-4dd3-9521-f1f4ed5d5faf"
      },
      "execution_count": null,
      "outputs": [
        {
          "output_type": "display_data",
          "data": {
            "text/plain": [
              "<Figure size 432x288 with 1 Axes>"
            ],
            "image/png": "[encoded data removed]"
          },
          "metadata": {
            "needs_background": "light"
          }
        }
      ]
    },
    {
      "cell_type": "markdown",
      "source": [
        "The graphs above show that the lowest validation loss and optimum validation accuracy occur at 3 to 5 epochs. Then we notice two patterns.\n",
        "\n",
        "* Validation loss rises, while training loss falls.\n",
        "* The certification accuracy falls while the training accuracy rises.\n",
        "\n",
        "The preceding consequences imply that while the model improves at classifying the training data, it consistently makes worse forecasts when it meets new and unknown data, indicating overfitting. After the fifth epoch, the algorithm starts to match the training data too closely.\n",
        "\n",
        "To resolve overfitting, the epoch count is decreased to between 3 and 5 epochs. The epochs may differ based on the machine and the character of randomly allocated weights."
      ],
      "metadata": {
        "id": "zuw7dtHnAsun"
      }
    },
    {
      "cell_type": "markdown",
      "source": [
        "Retraining our model\n",
        "\n"
      ],
      "metadata": {
        "id": "NEkdSqFT2Grn"
      }
    },
    {
      "cell_type": "code",
      "source": [
        "\n",
        "\n",
        "model = keras.Sequential([\n",
        "    layers.Dense(16, activation=\"relu\"),\n",
        "    layers.Dense(16, activation=\"relu\"),\n",
        "    layers.Dense(1, activation=\"sigmoid\")\n",
        "])\n",
        "model.compile(optimizer=\"rmsprop\",\n",
        "              loss=\"binary_crossentropy\",\n",
        "              metrics=[\"accuracy\"])\n",
        "\n",
        "model.fit(x_train, y_train, epochs=3, batch_size=512)     \n",
        "results = model.evaluate(x_test, y_test)"
      ],
      "metadata": {
        "colab": {
          "base_uri": "https://localhost:8080/"
        },
        "id": "3THbsGrA2H24",
        "outputId": "26d0ea45-e4a8-4814-da12-ce1fcdcac545"
      },
      "execution_count": null,
      "outputs": [
        {
          "output_type": "stream",
          "name": "stdout",
          "text": [
            "Epoch 1/3\n",
            "49/49 [==============================] - 2s 37ms/step - loss: 0.4683 - accuracy: 0.8092\n",
            "Epoch 2/3\n",
            "49/49 [==============================] - 3s 52ms/step - loss: 0.2690 - accuracy: 0.9056\n",
            "Epoch 3/3\n",
            "49/49 [==============================] - 2s 41ms/step - loss: 0.2129 - accuracy: 0.9227\n",
            "782/782 [==============================] - 3s 3ms/step - loss: 0.2819 - accuracy: 0.8885\n"
          ]
        }
      ]
    },
    {
      "cell_type": "markdown",
      "source": [
        "**<b>Result</b>**\n",
        "\n",
        "The model was trained for 20 epochs and obtained a test accuracy of 88.72%. To illustrate the findings, the model's training and validation loss and accuracy were plotted on graphs. It was discovered that the training and confirmation precision grew concurrently with each epoch, while the loss decreased. Furthermore, the training accuracy was found to be reliably greater than the validation accuracy, indicating that the model is slightly overfitting."
      ],
      "metadata": {
        "id": "Vl4bxb9-BqPY"
      }
    },
    {
      "cell_type": "code",
      "source": [
        "results\n"
      ],
      "metadata": {
        "colab": {
          "base_uri": "https://localhost:8080/"
        },
        "id": "LYUWRlYlR5zv",
        "outputId": "98612ffd-d76f-44a3-d3d8-c6fbd4e51998"
      },
      "execution_count": null,
      "outputs": [
        {
          "output_type": "execute_result",
          "data": {
            "text/plain": [
              "[0.28187671303749084, 0.8885200023651123]"
            ]
          },
          "metadata": {},
          "execution_count": 20
        }
      ]
    },
    {
      "cell_type": "markdown",
      "source": [
        "1. You used two hidden layers. Try using one or three hidden layers, and see how doing so affects validation and test accuracy.\n",
        "\n",
        "\n",
        "In this report, we will examine two neural networks with various designs to see how the number of hidden layers affects model accuracy.\n",
        "\n",
        "The first neural network has only one hidden layer with 16 nodes and uses the ReLU activation function. The output layer is composed of only one node and employs the sigmoid activation function. RMSprop is the algorithm used, and binary cross-entropy is the loss function. The group size has been fixed to 512, and the number of epochs to 20.\n",
        "\n",
        "\n",
        "The second neural network, like the first, has three hidden layers with 16 nodes each and employs the ReLU activation function. The output layer is configured similarly to the first neural network. RMSprop is the algorithm used, and binary cross-entropy is the loss function. The group size has been fixed to 512, and the number of epochs to 20."
      ],
      "metadata": {
        "id": "4wHdVQSPUVvi"
      }
    },
    {
      "cell_type": "code",
      "source": [
        "# Three hidden layers and one relu activation function model\n",
        "model_13 = keras.Sequential([\n",
        "    layers.Dense(16, activation=\"relu\"),\n",
        "    layers.Dense(16, activation=\"relu\"),\n",
        "    layers.Dense(16, activation=\"relu\"),\n",
        "    layers.Dense(1, activation=\"sigmoid\")\n",
        "])\n",
        "\n",
        "# one hidden layer and one relu activation function model\n",
        "model_11 = keras.Sequential([\n",
        "    layers.Dense(16, activation=\"relu\"),\n",
        "    layers.Dense(1, activation=\"sigmoid\")\n",
        "])"
      ],
      "metadata": {
        "id": "6X4UumZzUXNJ"
      },
      "execution_count": null,
      "outputs": []
    },
    {
      "cell_type": "code",
      "source": [
        "#RMSProp and binary cross entropy for both models\n",
        "model_13.compile(optimizer=\"rmsprop\",\n",
        "              loss=\"binary_crossentropy\",\n",
        "              metrics=[\"accuracy\"])\n",
        "\n",
        "model_11.compile(optimizer=\"rmsprop\",\n",
        "              loss=\"binary_crossentropy\",\n",
        "              metrics=[\"accuracy\"])"
      ],
      "metadata": {
        "id": "SFy4XOZDUdRl"
      },
      "execution_count": null,
      "outputs": []
    },
    {
      "cell_type": "code",
      "source": [
        "# Fitting model with 20 epochs and 512 batch size\n",
        "history_13 = model_13.fit(partial_x_train,\n",
        "                    partial_y_train,\n",
        "                    epochs=20,\n",
        "                    batch_size=512,\n",
        "                    validation_data=(x_val, y_val))\n",
        "\n",
        "history_11 = model_11.fit(partial_x_train,\n",
        "                    partial_y_train,\n",
        "                    epochs=20,\n",
        "                    batch_size=512,\n",
        "                    validation_data=(x_val, y_val))"
      ],
      "metadata": {
        "colab": {
          "base_uri": "https://localhost:8080/"
        },
        "id": "g91rqsmcUdSP",
        "outputId": "c3de7433-3709-4c35-bbaa-e7898b45786a"
      },
      "execution_count": null,
      "outputs": [
        {
          "output_type": "stream",
          "name": "stdout",
          "text": [
            "Epoch 1/20\n",
            "30/30 [==============================] - 3s 61ms/step - loss: 0.5332 - accuracy: 0.7586 - val_loss: 0.4323 - val_accuracy: 0.8132\n",
            "Epoch 2/20\n",
            "30/30 [==============================] - 1s 38ms/step - loss: 0.3073 - accuracy: 0.8925 - val_loss: 0.3243 - val_accuracy: 0.8690\n",
            "Epoch 3/20\n",
            "30/30 [==============================] - 1s 41ms/step - loss: 0.2260 - accuracy: 0.9227 - val_loss: 0.3023 - val_accuracy: 0.8766\n",
            "Epoch 4/20\n",
            "30/30 [==============================] - 1s 40ms/step - loss: 0.1780 - accuracy: 0.9397 - val_loss: 0.2784 - val_accuracy: 0.8915\n",
            "Epoch 5/20\n",
            "30/30 [==============================] - 2s 61ms/step - loss: 0.1513 - accuracy: 0.9478 - val_loss: 0.2845 - val_accuracy: 0.8882\n",
            "Epoch 6/20\n",
            "30/30 [==============================] - 2s 53ms/step - loss: 0.1244 - accuracy: 0.9579 - val_loss: 0.3343 - val_accuracy: 0.8729\n",
            "Epoch 7/20\n",
            "30/30 [==============================] - 1s 39ms/step - loss: 0.1037 - accuracy: 0.9667 - val_loss: 0.3283 - val_accuracy: 0.8812\n",
            "Epoch 8/20\n",
            "30/30 [==============================] - 1s 39ms/step - loss: 0.0867 - accuracy: 0.9732 - val_loss: 0.3578 - val_accuracy: 0.8749\n",
            "Epoch 9/20\n",
            "30/30 [==============================] - 1s 40ms/step - loss: 0.0720 - accuracy: 0.9787 - val_loss: 0.3632 - val_accuracy: 0.8786\n",
            "Epoch 10/20\n",
            "30/30 [==============================] - 1s 37ms/step - loss: 0.0574 - accuracy: 0.9846 - val_loss: 0.3893 - val_accuracy: 0.8769\n",
            "Epoch 11/20\n",
            "30/30 [==============================] - 1s 38ms/step - loss: 0.0532 - accuracy: 0.9843 - val_loss: 0.4140 - val_accuracy: 0.8761\n",
            "Epoch 12/20\n",
            "30/30 [==============================] - 1s 41ms/step - loss: 0.0434 - accuracy: 0.9883 - val_loss: 0.4418 - val_accuracy: 0.8734\n",
            "Epoch 13/20\n",
            "30/30 [==============================] - 1s 38ms/step - loss: 0.0374 - accuracy: 0.9898 - val_loss: 0.4710 - val_accuracy: 0.8730\n",
            "Epoch 14/20\n",
            "30/30 [==============================] - 1s 40ms/step - loss: 0.0333 - accuracy: 0.9897 - val_loss: 0.4944 - val_accuracy: 0.8739\n",
            "Epoch 15/20\n",
            "30/30 [==============================] - 1s 50ms/step - loss: 0.0326 - accuracy: 0.9897 - val_loss: 0.5170 - val_accuracy: 0.8744\n",
            "Epoch 16/20\n",
            "30/30 [==============================] - 2s 66ms/step - loss: 0.0123 - accuracy: 0.9992 - val_loss: 0.6282 - val_accuracy: 0.8565\n",
            "Epoch 17/20\n",
            "30/30 [==============================] - 1s 39ms/step - loss: 0.0222 - accuracy: 0.9945 - val_loss: 0.6365 - val_accuracy: 0.8581\n",
            "Epoch 18/20\n",
            "30/30 [==============================] - 1s 40ms/step - loss: 0.0240 - accuracy: 0.9937 - val_loss: 0.5933 - val_accuracy: 0.8726\n",
            "Epoch 19/20\n",
            "30/30 [==============================] - 1s 38ms/step - loss: 0.0080 - accuracy: 0.9993 - val_loss: 0.7161 - val_accuracy: 0.8549\n",
            "Epoch 20/20\n",
            "30/30 [==============================] - 1s 37ms/step - loss: 0.0171 - accuracy: 0.9947 - val_loss: 0.6477 - val_accuracy: 0.8719\n",
            "Epoch 1/20\n",
            "30/30 [==============================] - 3s 73ms/step - loss: 0.5078 - accuracy: 0.7894 - val_loss: 0.3988 - val_accuracy: 0.8684\n",
            "Epoch 2/20\n",
            "30/30 [==============================] - 2s 55ms/step - loss: 0.3349 - accuracy: 0.8948 - val_loss: 0.3395 - val_accuracy: 0.8728\n",
            "Epoch 3/20\n",
            "30/30 [==============================] - 1s 37ms/step - loss: 0.2652 - accuracy: 0.9154 - val_loss: 0.2964 - val_accuracy: 0.8881\n",
            "Epoch 4/20\n",
            "30/30 [==============================] - 1s 40ms/step - loss: 0.2239 - accuracy: 0.9282 - val_loss: 0.2950 - val_accuracy: 0.8824\n",
            "Epoch 5/20\n",
            "30/30 [==============================] - 1s 40ms/step - loss: 0.1944 - accuracy: 0.9369 - val_loss: 0.2751 - val_accuracy: 0.8886\n",
            "Epoch 6/20\n",
            "30/30 [==============================] - 1s 40ms/step - loss: 0.1733 - accuracy: 0.9453 - val_loss: 0.2773 - val_accuracy: 0.8885\n",
            "Epoch 7/20\n",
            "30/30 [==============================] - 1s 39ms/step - loss: 0.1557 - accuracy: 0.9524 - val_loss: 0.2802 - val_accuracy: 0.8873\n",
            "Epoch 8/20\n",
            "30/30 [==============================] - 1s 38ms/step - loss: 0.1416 - accuracy: 0.9564 - val_loss: 0.2786 - val_accuracy: 0.8863\n",
            "Epoch 9/20\n",
            "30/30 [==============================] - 1s 41ms/step - loss: 0.1289 - accuracy: 0.9625 - val_loss: 0.2835 - val_accuracy: 0.8864\n",
            "Epoch 10/20\n",
            "30/30 [==============================] - 1s 38ms/step - loss: 0.1183 - accuracy: 0.9647 - val_loss: 0.2901 - val_accuracy: 0.8853\n",
            "Epoch 11/20\n",
            "30/30 [==============================] - 2s 62ms/step - loss: 0.1089 - accuracy: 0.9706 - val_loss: 0.2964 - val_accuracy: 0.8835\n",
            "Epoch 12/20\n",
            "30/30 [==============================] - 2s 53ms/step - loss: 0.1007 - accuracy: 0.9733 - val_loss: 0.3081 - val_accuracy: 0.8843\n",
            "Epoch 13/20\n",
            "30/30 [==============================] - 1s 43ms/step - loss: 0.0924 - accuracy: 0.9757 - val_loss: 0.3483 - val_accuracy: 0.8699\n",
            "Epoch 14/20\n",
            "30/30 [==============================] - 1s 39ms/step - loss: 0.0861 - accuracy: 0.9788 - val_loss: 0.3192 - val_accuracy: 0.8810\n",
            "Epoch 15/20\n",
            "30/30 [==============================] - 1s 41ms/step - loss: 0.0789 - accuracy: 0.9810 - val_loss: 0.3461 - val_accuracy: 0.8765\n",
            "Epoch 16/20\n",
            "30/30 [==============================] - 1s 38ms/step - loss: 0.0730 - accuracy: 0.9841 - val_loss: 0.3375 - val_accuracy: 0.8793\n",
            "Epoch 17/20\n",
            "30/30 [==============================] - 1s 40ms/step - loss: 0.0676 - accuracy: 0.9854 - val_loss: 0.3495 - val_accuracy: 0.8784\n",
            "Epoch 18/20\n",
            "30/30 [==============================] - 1s 38ms/step - loss: 0.0627 - accuracy: 0.9874 - val_loss: 0.3621 - val_accuracy: 0.8735\n",
            "Epoch 19/20\n",
            "30/30 [==============================] - 1s 38ms/step - loss: 0.0571 - accuracy: 0.9889 - val_loss: 0.3662 - val_accuracy: 0.8768\n",
            "Epoch 20/20\n",
            "30/30 [==============================] - 1s 40ms/step - loss: 0.0529 - accuracy: 0.9905 - val_loss: 0.3816 - val_accuracy: 0.8752\n"
          ]
        }
      ]
    },
    {
      "cell_type": "markdown",
      "source": [
        "Plotting training and validation loss\n",
        "\n"
      ],
      "metadata": {
        "id": "xkN-f-moUyfI"
      }
    },
    {
      "cell_type": "code",
      "source": [
        "historyp_13 = history_13.history\n",
        "historyp_13.keys()"
      ],
      "metadata": {
        "colab": {
          "base_uri": "https://localhost:8080/"
        },
        "id": "TrVDTAROU3T7",
        "outputId": "50759868-515a-410d-f310-93a041b1ec43"
      },
      "execution_count": null,
      "outputs": [
        {
          "output_type": "execute_result",
          "data": {
            "text/plain": [
              "dict_keys(['loss', 'accuracy', 'val_loss', 'val_accuracy'])"
            ]
          },
          "metadata": {},
          "execution_count": 24
        }
      ]
    },
    {
      "cell_type": "code",
      "source": [
        "historyp_11 = history_11.history\n",
        "historyp_11.keys()"
      ],
      "metadata": {
        "colab": {
          "base_uri": "https://localhost:8080/"
        },
        "id": "uH66xRUBU8XF",
        "outputId": "ee15d086-1306-45cb-d976-7c3f9d3fcb02"
      },
      "execution_count": null,
      "outputs": [
        {
          "output_type": "execute_result",
          "data": {
            "text/plain": [
              "dict_keys(['loss', 'accuracy', 'val_loss', 'val_accuracy'])"
            ]
          },
          "metadata": {},
          "execution_count": 25
        }
      ]
    },
    {
      "cell_type": "markdown",
      "source": [
        "Plotting training and testing loss\n",
        "\n"
      ],
      "metadata": {
        "id": "QSncKTtHVBWO"
      }
    },
    {
      "cell_type": "code",
      "source": [
        "# Losses\n",
        "historyp_13 = history_13.history\n",
        "loss_values3 = historyp_13[\"loss\"]\n",
        "val_loss_values3 = historyp_13[\"val_loss\"]            \n",
        "epochs = range(1, len(loss_values) + 1)\n",
        "plt.plot(epochs, loss_values3, \"bo\", label=\"Training loss\")\n",
        "plt.plot(epochs, val_loss_values3, \"b\", label=\"Validation loss\")\n",
        "plt.title(\"Training and validation loss\")\n",
        "plt.xlabel(\"Epochs\")\n",
        "plt.ylabel(\"Loss\")\n",
        "plt.legend()\n",
        "plt.show()"
      ],
      "metadata": {
        "colab": {
          "base_uri": "https://localhost:8080/",
          "height": 295
        },
        "id": "8U5VWOwvVEtg",
        "outputId": "8dcc1890-2da2-47ae-d496-718462070c94"
      },
      "execution_count": null,
      "outputs": [
        {
          "output_type": "display_data",
          "data": {
            "text/plain": [
              "<Figure size 432x288 with 1 Axes>"
            ],
            "image/png": "[encoded data removed]"
          },
          "metadata": {
            "needs_background": "light"
          }
        }
      ]
    },
    {
      "cell_type": "markdown",
      "source": [
        "Here, the minimum validation loss is observed at 5th epoch\n",
        "\n"
      ],
      "metadata": {
        "id": "pFZKuoVZVJZu"
      }
    },
    {
      "cell_type": "code",
      "source": [
        "#Losses\n",
        "historyp_11 = history_11.history\n",
        "loss_values1 = historyp_11[\"loss\"]\n",
        "val_loss_values1 = historyp_11[\"val_loss\"]           \n",
        "epochs = range(1, len(loss_values) + 1)\n",
        "plt.plot(epochs, loss_values1, \"bo\", label=\"Training loss\")\n",
        "plt.plot(epochs, val_loss_values1, \"b\", label=\"Validation loss\")\n",
        "plt.title(\"Training and validation loss\")\n",
        "plt.xlabel(\"Epochs\")\n",
        "plt.ylabel(\"Loss\")\n",
        "plt.legend()\n",
        "plt.show()"
      ],
      "metadata": {
        "colab": {
          "base_uri": "https://localhost:8080/",
          "height": 295
        },
        "id": "GZpkZ66vVLAj",
        "outputId": "ba92c8ab-5abd-4f1f-a78a-9f0dbe5a8d28"
      },
      "execution_count": null,
      "outputs": [
        {
          "output_type": "display_data",
          "data": {
            "text/plain": [
              "<Figure size 432x288 with 1 Axes>"
            ],
            "image/png": "[encoded data removed]"
          },
          "metadata": {
            "needs_background": "light"
          }
        }
      ]
    },
    {
      "cell_type": "markdown",
      "source": [
        "Here, the minimum validation loss is observed at 5th epoch\n",
        "\n",
        "Plotting training and testing accuracy"
      ],
      "metadata": {
        "id": "ygMMl-AZVQTX"
      }
    },
    {
      "cell_type": "code",
      "source": [
        "#Accuracy\n",
        "plt.clf()\n",
        "acc3 = historyp_13[\"accuracy\"]\n",
        "val_acc3 = historyp_13[\"val_accuracy\"]           \n",
        "plt.plot(epochs, acc3, \"bo\", label=\"Training acc\")\n",
        "plt.plot(epochs, val_acc3, \"b\", label=\"Validation acc\")\n",
        "plt.title(\"Training and validation accuracy\")\n",
        "plt.xlabel(\"Epochs\")\n",
        "plt.ylabel(\"Accuracy\")\n",
        "plt.legend()\n",
        "plt.show()"
      ],
      "metadata": {
        "colab": {
          "base_uri": "https://localhost:8080/",
          "height": 295
        },
        "id": "mJ9uzOotVTcR",
        "outputId": "e33dc2d7-2716-447f-a553-68fb6804ebd2"
      },
      "execution_count": null,
      "outputs": [
        {
          "output_type": "display_data",
          "data": {
            "text/plain": [
              "<Figure size 432x288 with 1 Axes>"
            ],
            "image/png": "[encoded data removed]"
          },
          "metadata": {
            "needs_background": "light"
          }
        }
      ]
    },
    {
      "cell_type": "markdown",
      "source": [
        "Here, the maximum validation accuracy is observed at 5th epoch\n",
        "\n"
      ],
      "metadata": {
        "id": "cE7cAdtiVZe7"
      }
    },
    {
      "cell_type": "code",
      "source": [
        "#Accuracy\n",
        "plt.clf()\n",
        "acc1 = historyp_11[\"accuracy\"]\n",
        "val_acc1 = historyp_11[\"val_accuracy\"]          \n",
        "plt.plot(epochs, acc1, \"bo\", label=\"Training acc\")\n",
        "plt.plot(epochs, val_acc1, \"b\", label=\"Validation acc\")\n",
        "plt.title(\"Training and validation accuracy\")\n",
        "plt.xlabel(\"Epochs\")\n",
        "plt.ylabel(\"Accuracy\")\n",
        "plt.legend()\n",
        "plt.show()"
      ],
      "metadata": {
        "colab": {
          "base_uri": "https://localhost:8080/",
          "height": 295
        },
        "id": "Ix1nXYQtVaIE",
        "outputId": "2e92d541-73fc-48f3-e051-188959145235"
      },
      "execution_count": null,
      "outputs": [
        {
          "output_type": "display_data",
          "data": {
            "text/plain": [
              "<Figure size 432x288 with 1 Axes>"
            ],
            "image/png": "[encoded data removed]"
          },
          "metadata": {
            "needs_background": "light"
          }
        }
      ]
    },
    {
      "cell_type": "markdown",
      "source": [],
      "metadata": {
        "id": "LB3dcRTnVmIb"
      }
    },
    {
      "cell_type": "markdown",
      "source": [
        "Here, the maximum vallidation accuracy is observed at 5th epoch.\n",
        "\n"
      ],
      "metadata": {
        "id": "HlAyLhsEVmJM"
      }
    },
    {
      "cell_type": "markdown",
      "source": [
        "**<b>Results:</b>**\n",
        "\n",
        "Both models are trained on the same dataset, and their performance is evaluated on the validation set, which is different from the training set. The following table shows the accuracy of both neural networks on the validation and test datasets.\n",
        "\n",
        "Model\t\n",
        "One\t Validation Set : 0.8868\tAccuracy on Test Set : 0.8744\n",
        "\n",
        "Three\tValidation Set : 0.8824\t Accuracy on Test Set : 0.8716\n",
        "\n",
        "From the table above, we can see that the neural network with one hidden layer performed better than the neural network with three hidden layers. The difference in accuracy is relatively small, but it is consistent on both the validation and test datasets.\n",
        "\n"
      ],
      "metadata": {
        "id": "w91I6uosCb9U"
      }
    },
    {
      "cell_type": "markdown",
      "source": [
        "2. Try using layers with more hidden units or fewer hidden units: 32 units, 64 units, and so on."
      ],
      "metadata": {
        "id": "haIDS1M_Vo3P"
      }
    },
    {
      "cell_type": "code",
      "source": [
        "#2 hidden layers and 32 and 64 nodes model\n",
        "model_2 = keras.Sequential([\n",
        "    layers.Dense(32, activation=\"relu\"),\n",
        "    layers.Dense(64, activation=\"relu\"),\n",
        "    layers.Dense(1, activation=\"sigmoid\")\n",
        "])"
      ],
      "metadata": {
        "id": "tlVxy5LvVrOy"
      },
      "execution_count": null,
      "outputs": []
    },
    {
      "cell_type": "code",
      "source": [
        "#RMSProp and binary cross entropy \n",
        "model_2.compile(optimizer=\"rmsprop\",\n",
        "              loss=\"binary_crossentropy\",\n",
        "              metrics=[\"accuracy\"])"
      ],
      "metadata": {
        "id": "WpfgkRbxVuYv"
      },
      "execution_count": null,
      "outputs": []
    },
    {
      "cell_type": "code",
      "source": [
        "# Fitting model with 20 epochs and 512 batch size\n",
        "history2 = model_2.fit(partial_x_train,\n",
        "                    partial_y_train,\n",
        "                    epochs=20,\n",
        "                    batch_size=512,\n",
        "                    validation_data=(x_val, y_val))"
      ],
      "metadata": {
        "colab": {
          "base_uri": "https://localhost:8080/"
        },
        "id": "W8CARs1RVuZe",
        "outputId": "06cbecf6-da76-4c30-d483-c9e510f159ea"
      },
      "execution_count": null,
      "outputs": [
        {
          "output_type": "stream",
          "name": "stdout",
          "text": [
            "Epoch 1/20\n",
            "30/30 [==============================] - 4s 92ms/step - loss: 0.5350 - accuracy: 0.7552 - val_loss: 0.3825 - val_accuracy: 0.8602\n",
            "Epoch 2/20\n",
            "30/30 [==============================] - 1s 45ms/step - loss: 0.3096 - accuracy: 0.8905 - val_loss: 0.2935 - val_accuracy: 0.8858\n",
            "Epoch 3/20\n",
            "30/30 [==============================] - 2s 57ms/step - loss: 0.2290 - accuracy: 0.9164 - val_loss: 0.2756 - val_accuracy: 0.8889\n",
            "Epoch 4/20\n",
            "30/30 [==============================] - 1s 45ms/step - loss: 0.1822 - accuracy: 0.9356 - val_loss: 0.3438 - val_accuracy: 0.8621\n",
            "Epoch 5/20\n",
            "30/30 [==============================] - 2s 57ms/step - loss: 0.1500 - accuracy: 0.9473 - val_loss: 0.2923 - val_accuracy: 0.8843\n",
            "Epoch 6/20\n",
            "30/30 [==============================] - 1s 46ms/step - loss: 0.1266 - accuracy: 0.9568 - val_loss: 0.3869 - val_accuracy: 0.8562\n",
            "Epoch 7/20\n",
            "30/30 [==============================] - 1s 45ms/step - loss: 0.1029 - accuracy: 0.9661 - val_loss: 0.3420 - val_accuracy: 0.8777\n",
            "Epoch 8/20\n",
            "30/30 [==============================] - 2s 74ms/step - loss: 0.0838 - accuracy: 0.9737 - val_loss: 0.3350 - val_accuracy: 0.8837\n",
            "Epoch 9/20\n",
            "30/30 [==============================] - 2s 58ms/step - loss: 0.0639 - accuracy: 0.9819 - val_loss: 0.4027 - val_accuracy: 0.8720\n",
            "Epoch 10/20\n",
            "30/30 [==============================] - 1s 45ms/step - loss: 0.0639 - accuracy: 0.9805 - val_loss: 0.3853 - val_accuracy: 0.8784\n",
            "Epoch 11/20\n",
            "30/30 [==============================] - 1s 44ms/step - loss: 0.0455 - accuracy: 0.9870 - val_loss: 0.4083 - val_accuracy: 0.8773\n",
            "Epoch 12/20\n",
            "30/30 [==============================] - 1s 44ms/step - loss: 0.0413 - accuracy: 0.9883 - val_loss: 0.4294 - val_accuracy: 0.8760\n",
            "Epoch 13/20\n",
            "30/30 [==============================] - 1s 47ms/step - loss: 0.0175 - accuracy: 0.9985 - val_loss: 0.4739 - val_accuracy: 0.8733\n",
            "Epoch 14/20\n",
            "30/30 [==============================] - 1s 44ms/step - loss: 0.0324 - accuracy: 0.9899 - val_loss: 0.4865 - val_accuracy: 0.8739\n",
            "Epoch 15/20\n",
            "30/30 [==============================] - 1s 45ms/step - loss: 0.0210 - accuracy: 0.9945 - val_loss: 0.5086 - val_accuracy: 0.8735\n",
            "Epoch 16/20\n",
            "30/30 [==============================] - 2s 56ms/step - loss: 0.0079 - accuracy: 0.9997 - val_loss: 0.5975 - val_accuracy: 0.8638\n",
            "Epoch 17/20\n",
            "30/30 [==============================] - 2s 71ms/step - loss: 0.0248 - accuracy: 0.9926 - val_loss: 0.5640 - val_accuracy: 0.8709\n",
            "Epoch 18/20\n",
            "30/30 [==============================] - 1s 48ms/step - loss: 0.0181 - accuracy: 0.9946 - val_loss: 0.5730 - val_accuracy: 0.8740\n",
            "Epoch 19/20\n",
            "30/30 [==============================] - 1s 45ms/step - loss: 0.0039 - accuracy: 0.9999 - val_loss: 0.5982 - val_accuracy: 0.8732\n",
            "Epoch 20/20\n",
            "30/30 [==============================] - 1s 45ms/step - loss: 0.0031 - accuracy: 0.9999 - val_loss: 0.8019 - val_accuracy: 0.8534\n"
          ]
        }
      ]
    },
    {
      "cell_type": "code",
      "source": [
        "historyp2 = history2.history\n",
        "loss_values = historyp2[\"loss\"]\n",
        "val_loss_values = historyp2[\"val_loss\"]\n",
        "epochs = range(1, len(loss_values) + 1)\n",
        "plt.plot(epochs, loss_values, \"bo\", label=\"Training loss\")\n",
        "plt.plot(epochs, val_loss_values, \"b\", label=\"Validation loss\")\n",
        "plt.title(\"Training and validation loss\")\n",
        "plt.xlabel(\"Epochs\")\n",
        "plt.ylabel(\"Loss\")\n",
        "plt.legend()\n",
        "plt.show()\n",
        "\n",
        "plt.clf()\n",
        "acc = historyp2[\"accuracy\"]\n",
        "val_acc = historyp2[\"val_accuracy\"]\n",
        "plt.plot(epochs, acc, \"bo\", label=\"Training acc\")\n",
        "plt.plot(epochs, val_acc, \"b\", label=\"Validation acc\")\n",
        "plt.title(\"Training and validation accuracy\")\n",
        "plt.xlabel(\"Epochs\")\n",
        "plt.ylabel(\"Accuracy\")\n",
        "plt.legend()\n",
        "plt.show()\n",
        "     "
      ],
      "metadata": {
        "colab": {
          "base_uri": "https://localhost:8080/",
          "height": 573
        },
        "id": "4Jx6cDaNV84o",
        "outputId": "fbbdf6c0-11a2-4a71-c811-26a01cf7efa5"
      },
      "execution_count": null,
      "outputs": [
        {
          "output_type": "display_data",
          "data": {
            "text/plain": [
              "<Figure size 432x288 with 1 Axes>"
            ],
            "image/png": "[encoded data removed]"
          },
          "metadata": {
            "needs_background": "light"
          }
        },
        {
          "output_type": "display_data",
          "data": {
            "text/plain": [
              "<Figure size 432x288 with 1 Axes>"
            ],
            "image/png": "[encoded data removed]"
          },
          "metadata": {
            "needs_background": "light"
          }
        }
      ]
    },
    {
      "cell_type": "markdown",
      "source": [],
      "metadata": {
        "id": "djuH-6XaWGM0"
      }
    },
    {
      "cell_type": "markdown",
      "source": [
        "The minimum validation loss is observed at 3rd epoch and maximum validation accuracy is observed at 3rd and 4th epochs."
      ],
      "metadata": {
        "id": "yIfTgTtkWGNp"
      }
    },
    {
      "cell_type": "markdown",
      "source": [
        "3. Try using the mse loss function instead of binary_crossentropy.\n",
        "\n"
      ],
      "metadata": {
        "id": "ESGu2l_LWHlL"
      }
    },
    {
      "cell_type": "code",
      "source": [
        "model_3 = keras.Sequential([\n",
        "    layers.Dense(16, activation=\"relu\"),\n",
        "    layers.Dense(16, activation=\"relu\"),\n",
        "    layers.Dense(1, activation=\"sigmoid\")\n",
        "])\n"
      ],
      "metadata": {
        "id": "NiUEvqNSWJ3d"
      },
      "execution_count": null,
      "outputs": []
    },
    {
      "cell_type": "code",
      "source": [
        "#RMSProp and mse loss function \n",
        "model_3.compile(optimizer=\"rmsprop\",\n",
        "              loss=\"mse\",\n",
        "              metrics=[\"accuracy\"])"
      ],
      "metadata": {
        "id": "Jsj4-vdZWPwR"
      },
      "execution_count": null,
      "outputs": []
    },
    {
      "cell_type": "code",
      "source": [
        "# Fitting model with 20 epochs and 512 batch size\n",
        "history3 = model_3.fit(partial_x_train,\n",
        "                    partial_y_train,\n",
        "                    epochs=20,\n",
        "                    batch_size=512,\n",
        "                    validation_data=(x_val, y_val))"
      ],
      "metadata": {
        "colab": {
          "base_uri": "https://localhost:8080/"
        },
        "id": "kEEEOHU-WTLc",
        "outputId": "25d86730-a343-4bc9-f6fd-11d31a6a522d"
      },
      "execution_count": null,
      "outputs": [
        {
          "output_type": "stream",
          "name": "stdout",
          "text": [
            "Epoch 1/20\n",
            "30/30 [==============================] - 2s 59ms/step - loss: 0.1857 - accuracy: 0.7639 - val_loss: 0.1331 - val_accuracy: 0.8627\n",
            "Epoch 2/20\n",
            "30/30 [==============================] - 1s 38ms/step - loss: 0.1091 - accuracy: 0.8842 - val_loss: 0.1049 - val_accuracy: 0.8736\n",
            "Epoch 3/20\n",
            "30/30 [==============================] - 1s 39ms/step - loss: 0.0826 - accuracy: 0.9055 - val_loss: 0.0914 - val_accuracy: 0.8853\n",
            "Epoch 4/20\n",
            "30/30 [==============================] - 1s 40ms/step - loss: 0.0670 - accuracy: 0.9255 - val_loss: 0.0917 - val_accuracy: 0.8792\n",
            "Epoch 5/20\n",
            "30/30 [==============================] - 2s 61ms/step - loss: 0.0580 - accuracy: 0.9335 - val_loss: 0.0870 - val_accuracy: 0.8842\n",
            "Epoch 6/20\n",
            "30/30 [==============================] - 2s 50ms/step - loss: 0.0486 - accuracy: 0.9467 - val_loss: 0.0832 - val_accuracy: 0.8853\n",
            "Epoch 7/20\n",
            "30/30 [==============================] - 1s 38ms/step - loss: 0.0428 - accuracy: 0.9557 - val_loss: 0.0856 - val_accuracy: 0.8820\n",
            "Epoch 8/20\n",
            "30/30 [==============================] - 1s 39ms/step - loss: 0.0387 - accuracy: 0.9589 - val_loss: 0.0896 - val_accuracy: 0.8766\n",
            "Epoch 9/20\n",
            "30/30 [==============================] - 1s 38ms/step - loss: 0.0341 - accuracy: 0.9666 - val_loss: 0.0858 - val_accuracy: 0.8827\n",
            "Epoch 10/20\n",
            "30/30 [==============================] - 1s 37ms/step - loss: 0.0309 - accuracy: 0.9688 - val_loss: 0.0905 - val_accuracy: 0.8805\n",
            "Epoch 11/20\n",
            "30/30 [==============================] - 1s 37ms/step - loss: 0.0280 - accuracy: 0.9734 - val_loss: 0.0881 - val_accuracy: 0.8800\n",
            "Epoch 12/20\n",
            "30/30 [==============================] - 1s 40ms/step - loss: 0.0250 - accuracy: 0.9769 - val_loss: 0.0888 - val_accuracy: 0.8788\n",
            "Epoch 13/20\n",
            "30/30 [==============================] - 1s 39ms/step - loss: 0.0223 - accuracy: 0.9801 - val_loss: 0.0908 - val_accuracy: 0.8786\n",
            "Epoch 14/20\n",
            "30/30 [==============================] - 1s 40ms/step - loss: 0.0196 - accuracy: 0.9832 - val_loss: 0.0953 - val_accuracy: 0.8769\n",
            "Epoch 15/20\n",
            "30/30 [==============================] - 2s 59ms/step - loss: 0.0181 - accuracy: 0.9855 - val_loss: 0.0925 - val_accuracy: 0.8761\n",
            "Epoch 16/20\n",
            "30/30 [==============================] - 2s 56ms/step - loss: 0.0161 - accuracy: 0.9878 - val_loss: 0.0938 - val_accuracy: 0.8754\n",
            "Epoch 17/20\n",
            "30/30 [==============================] - 1s 37ms/step - loss: 0.0149 - accuracy: 0.9877 - val_loss: 0.0969 - val_accuracy: 0.8761\n",
            "Epoch 18/20\n",
            "30/30 [==============================] - 1s 39ms/step - loss: 0.0132 - accuracy: 0.9904 - val_loss: 0.0994 - val_accuracy: 0.8734\n",
            "Epoch 19/20\n",
            "30/30 [==============================] - 1s 38ms/step - loss: 0.0127 - accuracy: 0.9899 - val_loss: 0.0976 - val_accuracy: 0.8755\n",
            "Epoch 20/20\n",
            "30/30 [==============================] - 1s 37ms/step - loss: 0.0113 - accuracy: 0.9905 - val_loss: 0.1001 - val_accuracy: 0.8730\n"
          ]
        }
      ]
    },
    {
      "cell_type": "markdown",
      "source": [
        "Plotting training and testing loss\n",
        "\n"
      ],
      "metadata": {
        "id": "5nlYcyEoWcOI"
      }
    },
    {
      "cell_type": "code",
      "source": [
        "#Losses\n",
        "historyp3 = history3.history\n",
        "loss_values = historyp3[\"loss\"]\n",
        "val_loss_values = historyp3[\"val_loss\"]             \n",
        "epochs = range(1, len(loss_values) + 1)\n",
        "plt.plot(epochs, loss_values, \"bo\", label=\"Training loss\")\n",
        "plt.plot(epochs, val_loss_values, \"b\", label=\"Validation loss\")\n",
        "plt.title(\"Training and validation loss\")\n",
        "plt.xlabel(\"Epochs\")\n",
        "plt.ylabel(\"Loss\")\n",
        "plt.legend()\n",
        "plt.show()"
      ],
      "metadata": {
        "colab": {
          "base_uri": "https://localhost:8080/",
          "height": 295
        },
        "id": "SxbOe2wXWedE",
        "outputId": "23ff9895-4ec1-43e4-d6c3-d153e1dd0c41"
      },
      "execution_count": null,
      "outputs": [
        {
          "output_type": "display_data",
          "data": {
            "text/plain": [
              "<Figure size 432x288 with 1 Axes>"
            ],
            "image/png": "[encoded data removed]"
          },
          "metadata": {
            "needs_background": "light"
          }
        }
      ]
    },
    {
      "cell_type": "markdown",
      "source": [
        "Here, the minimum validation loss is observed in 3rd epoch.\n",
        "\n"
      ],
      "metadata": {
        "id": "320HZTLCWiHR"
      }
    },
    {
      "cell_type": "code",
      "source": [
        "#Accuracy\n",
        "plt.clf()\n",
        "acc = historyp3[\"accuracy\"]\n",
        "val_acc = historyp3[\"val_accuracy\"]            \n",
        "plt.plot(epochs, acc, \"bo\", label=\"Training acc\")\n",
        "plt.plot(epochs, val_acc, \"b\", label=\"Validation acc\")\n",
        "plt.title(\"Training and validation accuracy\")\n",
        "plt.xlabel(\"Epochs\")\n",
        "plt.ylabel(\"Accuracy\")\n",
        "plt.legend()\n",
        "plt.show()\n"
      ],
      "metadata": {
        "colab": {
          "base_uri": "https://localhost:8080/",
          "height": 295
        },
        "id": "ErPLSY3yWeds",
        "outputId": "4afecbe9-7082-477f-e06e-ce0296bf226f"
      },
      "execution_count": null,
      "outputs": [
        {
          "output_type": "display_data",
          "data": {
            "text/plain": [
              "<Figure size 432x288 with 1 Axes>"
            ],
            "image/png": "[encoded data removed]"
          },
          "metadata": {
            "needs_background": "light"
          }
        }
      ]
    },
    {
      "cell_type": "markdown",
      "source": [
        "Maximum accuracy is seen in 2nd and 3rd epochs\n",
        "\n"
      ],
      "metadata": {
        "id": "Xau9QpLQWnrC"
      }
    },
    {
      "cell_type": "markdown",
      "source": [
        "4. Using the tanh activation "
      ],
      "metadata": {
        "id": "XRgH4NoxWp31"
      }
    },
    {
      "cell_type": "code",
      "source": [
        "#tanh activation function model\n",
        "model_4 = keras.Sequential([\n",
        "    layers.Dense(16, activation=\"tanh\"),\n",
        "    layers.Dense(16, activation=\"tanh\"),\n",
        "    layers.Dense(1, activation=\"sigmoid\")\n",
        "])"
      ],
      "metadata": {
        "id": "VxvvIPzDWsBZ"
      },
      "execution_count": null,
      "outputs": []
    },
    {
      "cell_type": "code",
      "source": [
        "#RMSProp and binary cross entropy \n",
        "model_4.compile(optimizer=\"rmsprop\",\n",
        "              loss=\"mse\",\n",
        "              metrics=[\"accuracy\"])"
      ],
      "metadata": {
        "id": "U3mlK6dyWwD2"
      },
      "execution_count": null,
      "outputs": []
    },
    {
      "cell_type": "code",
      "source": [
        "# Fitting model with 20 epochs and 512 batch size\n",
        "history4 = model_4.fit(partial_x_train,\n",
        "                    partial_y_train,\n",
        "                    epochs=20,\n",
        "                    batch_size=512,\n",
        "                    validation_data=(x_val, y_val))"
      ],
      "metadata": {
        "colab": {
          "base_uri": "https://localhost:8080/"
        },
        "id": "gfB0k3muWyrw",
        "outputId": "1484edef-abd8-4685-b533-b08fcef10aea"
      },
      "execution_count": null,
      "outputs": [
        {
          "output_type": "stream",
          "name": "stdout",
          "text": [
            "Epoch 1/20\n",
            "30/30 [==============================] - 3s 77ms/step - loss: 0.1676 - accuracy: 0.7797 - val_loss: 0.1144 - val_accuracy: 0.8699\n",
            "Epoch 2/20\n",
            "30/30 [==============================] - 1s 41ms/step - loss: 0.0920 - accuracy: 0.8945 - val_loss: 0.0907 - val_accuracy: 0.8860\n",
            "Epoch 3/20\n",
            "30/30 [==============================] - 1s 40ms/step - loss: 0.0681 - accuracy: 0.9179 - val_loss: 0.0842 - val_accuracy: 0.8863\n",
            "Epoch 4/20\n",
            "30/30 [==============================] - 1s 38ms/step - loss: 0.0527 - accuracy: 0.9379 - val_loss: 0.0836 - val_accuracy: 0.8855\n",
            "Epoch 5/20\n",
            "30/30 [==============================] - 1s 38ms/step - loss: 0.0443 - accuracy: 0.9479 - val_loss: 0.0934 - val_accuracy: 0.8747\n",
            "Epoch 6/20\n",
            "30/30 [==============================] - 1s 38ms/step - loss: 0.0353 - accuracy: 0.9611 - val_loss: 0.0907 - val_accuracy: 0.8795\n",
            "Epoch 7/20\n",
            "30/30 [==============================] - 1s 36ms/step - loss: 0.0318 - accuracy: 0.9633 - val_loss: 0.0890 - val_accuracy: 0.8819\n",
            "Epoch 8/20\n",
            "30/30 [==============================] - 1s 38ms/step - loss: 0.0259 - accuracy: 0.9717 - val_loss: 0.0956 - val_accuracy: 0.8766\n",
            "Epoch 9/20\n",
            "30/30 [==============================] - 1s 39ms/step - loss: 0.0246 - accuracy: 0.9734 - val_loss: 0.0945 - val_accuracy: 0.8789\n",
            "Epoch 10/20\n",
            "30/30 [==============================] - 1s 45ms/step - loss: 0.0206 - accuracy: 0.9783 - val_loss: 0.0961 - val_accuracy: 0.8785\n",
            "Epoch 11/20\n",
            "30/30 [==============================] - 2s 54ms/step - loss: 0.0180 - accuracy: 0.9807 - val_loss: 0.0987 - val_accuracy: 0.8754\n",
            "Epoch 12/20\n",
            "30/30 [==============================] - 1s 47ms/step - loss: 0.0182 - accuracy: 0.9794 - val_loss: 0.1001 - val_accuracy: 0.8764\n",
            "Epoch 13/20\n",
            "30/30 [==============================] - 1s 38ms/step - loss: 0.0156 - accuracy: 0.9829 - val_loss: 0.1018 - val_accuracy: 0.8771\n",
            "Epoch 14/20\n",
            "30/30 [==============================] - 1s 39ms/step - loss: 0.0142 - accuracy: 0.9853 - val_loss: 0.1028 - val_accuracy: 0.8762\n",
            "Epoch 15/20\n",
            "30/30 [==============================] - 1s 39ms/step - loss: 0.0137 - accuracy: 0.9849 - val_loss: 0.1052 - val_accuracy: 0.8736\n",
            "Epoch 16/20\n",
            "30/30 [==============================] - 1s 39ms/step - loss: 0.0130 - accuracy: 0.9867 - val_loss: 0.1053 - val_accuracy: 0.8747\n",
            "Epoch 17/20\n",
            "30/30 [==============================] - 1s 40ms/step - loss: 0.0081 - accuracy: 0.9928 - val_loss: 0.1288 - val_accuracy: 0.8498\n",
            "Epoch 18/20\n",
            "30/30 [==============================] - 1s 39ms/step - loss: 0.0134 - accuracy: 0.9853 - val_loss: 0.1082 - val_accuracy: 0.8726\n",
            "Epoch 19/20\n",
            "30/30 [==============================] - 1s 37ms/step - loss: 0.0121 - accuracy: 0.9874 - val_loss: 0.1118 - val_accuracy: 0.8690\n",
            "Epoch 20/20\n",
            "30/30 [==============================] - 1s 37ms/step - loss: 0.0075 - accuracy: 0.9931 - val_loss: 0.1118 - val_accuracy: 0.8701\n"
          ]
        }
      ]
    },
    {
      "cell_type": "code",
      "source": [
        "\n",
        "historyp4 = history4.history\n",
        "loss_values = historyp4[\"loss\"]\n",
        "val_loss_values = historyp4[\"val_loss\"]\n",
        "epochs = range(1, len(loss_values) + 1)\n",
        "plt.plot(epochs, loss_values, \"bo\", label=\"Training loss\")\n",
        "plt.plot(epochs, val_loss_values, \"b\", label=\"Validation loss\")\n",
        "plt.title(\"Training and validation loss\")\n",
        "plt.xlabel(\"Epochs\")\n",
        "plt.ylabel(\"Loss\")\n",
        "plt.legend()\n",
        "plt.show()\n",
        "\n",
        "plt.clf()\n",
        "acc = historyp4[\"accuracy\"]\n",
        "val_acc = historyp4[\"val_accuracy\"]\n",
        "plt.plot(epochs, acc, \"bo\", label=\"Training acc\")\n",
        "plt.plot(epochs, val_acc, \"b\", label=\"Validation acc\")\n",
        "plt.title(\"Training and validation accuracy\")\n",
        "plt.xlabel(\"Epochs\")\n",
        "plt.ylabel(\"Accuracy\")\n",
        "plt.legend()"
      ],
      "metadata": {
        "colab": {
          "base_uri": "https://localhost:8080/",
          "height": 591
        },
        "id": "WVxY-pk9W4oM",
        "outputId": "95170ce4-cdeb-47f2-caec-01ac520937e5"
      },
      "execution_count": null,
      "outputs": [
        {
          "output_type": "display_data",
          "data": {
            "text/plain": [
              "<Figure size 432x288 with 1 Axes>"
            ],
            "image/png": "[encoded data removed]"
          },
          "metadata": {
            "needs_background": "light"
          }
        },
        {
          "output_type": "execute_result",
          "data": {
            "text/plain": [
              "<matplotlib.legend.Legend at 0x7f4805942fa0>"
            ]
          },
          "metadata": {},
          "execution_count": 42
        },
        {
          "output_type": "display_data",
          "data": {
            "text/plain": [
              "<Figure size 432x288 with 1 Axes>"
            ],
            "image/png": "[encoded data removed]"
          },
          "metadata": {
            "needs_background": "light"
          }
        }
      ]
    },
    {
      "cell_type": "markdown",
      "source": [
        "Maximum validation accuracy is seen in 3rd epoch where as Minimum validation loss is also seen in 3rd epoch\n",
        "\n"
      ],
      "metadata": {
        "id": "sVW6eiyfXA7B"
      }
    },
    {
      "cell_type": "code",
      "source": [
        "results"
      ],
      "metadata": {
        "colab": {
          "base_uri": "https://localhost:8080/"
        },
        "id": "-JF_UJm4XDAp",
        "outputId": "ba8a6cf6-10f0-43d3-bdd7-3489ee87e2e9"
      },
      "execution_count": null,
      "outputs": [
        {
          "output_type": "execute_result",
          "data": {
            "text/plain": [
              "[0.28187671303749084, 0.8885200023651123]"
            ]
          },
          "metadata": {},
          "execution_count": 43
        }
      ]
    },
    {
      "cell_type": "markdown",
      "source": [
        "5. Using technique we studied in class"
      ],
      "metadata": {
        "id": "IB8T92lEXVqm"
      }
    },
    {
      "cell_type": "code",
      "source": [
        "model_5 = keras.Sequential([\n",
        "    layers.Dense(32, activation=\"relu\"),\n",
        "    layers.Dropout(0.2),\n",
        "    layers.Dense(64, activation=\"relu\"),\n",
        "    layers.Dense(1, activation=\"sigmoid\")\n",
        "])"
      ],
      "metadata": {
        "id": "1kUbh56CXYFy"
      },
      "execution_count": null,
      "outputs": []
    },
    {
      "cell_type": "code",
      "source": [
        "#RMSProp and binary cross entropy \n",
        "model_5.compile(optimizer=\"rmsprop\",\n",
        "              loss=\"binary_crossentropy\",\n",
        "              metrics=[\"accuracy\"])"
      ],
      "metadata": {
        "id": "zaTLsBkNXbFT"
      },
      "execution_count": null,
      "outputs": []
    },
    {
      "cell_type": "code",
      "source": [
        "# Fitting model with 20 epochs and 512 batch size\n",
        "history5 = model_5.fit(partial_x_train,\n",
        "                    partial_y_train,\n",
        "                    epochs=20,\n",
        "                    batch_size=512,\n",
        "                    validation_data=(x_val, y_val))"
      ],
      "metadata": {
        "colab": {
          "base_uri": "https://localhost:8080/"
        },
        "id": "7_s3Tqw6XeLT",
        "outputId": "46b75d8c-8ea1-4c4c-fe3b-d922421e832d"
      },
      "execution_count": null,
      "outputs": [
        {
          "output_type": "stream",
          "name": "stdout",
          "text": [
            "Epoch 1/20\n",
            "30/30 [==============================] - 3s 68ms/step - loss: 0.5308 - accuracy: 0.7466 - val_loss: 0.3815 - val_accuracy: 0.8537\n",
            "Epoch 2/20\n",
            "30/30 [==============================] - 1s 49ms/step - loss: 0.3213 - accuracy: 0.8803 - val_loss: 0.2947 - val_accuracy: 0.8834\n",
            "Epoch 3/20\n",
            "30/30 [==============================] - 2s 71ms/step - loss: 0.2454 - accuracy: 0.9091 - val_loss: 0.2783 - val_accuracy: 0.8873\n",
            "Epoch 4/20\n",
            "30/30 [==============================] - 2s 58ms/step - loss: 0.1975 - accuracy: 0.9291 - val_loss: 0.3427 - val_accuracy: 0.8628\n",
            "Epoch 5/20\n",
            "30/30 [==============================] - 1s 45ms/step - loss: 0.1598 - accuracy: 0.9411 - val_loss: 0.2884 - val_accuracy: 0.8863\n",
            "Epoch 6/20\n",
            "30/30 [==============================] - 1s 45ms/step - loss: 0.1287 - accuracy: 0.9553 - val_loss: 0.3660 - val_accuracy: 0.8649\n",
            "Epoch 7/20\n",
            "30/30 [==============================] - 1s 46ms/step - loss: 0.1122 - accuracy: 0.9598 - val_loss: 0.3265 - val_accuracy: 0.8816\n",
            "Epoch 8/20\n",
            "30/30 [==============================] - 1s 47ms/step - loss: 0.0854 - accuracy: 0.9714 - val_loss: 0.3582 - val_accuracy: 0.8771\n",
            "Epoch 9/20\n",
            "30/30 [==============================] - 1s 47ms/step - loss: 0.0693 - accuracy: 0.9777 - val_loss: 0.3905 - val_accuracy: 0.8751\n",
            "Epoch 10/20\n",
            "30/30 [==============================] - 1s 45ms/step - loss: 0.0556 - accuracy: 0.9824 - val_loss: 0.4364 - val_accuracy: 0.8780\n",
            "Epoch 11/20\n",
            "30/30 [==============================] - 2s 53ms/step - loss: 0.0455 - accuracy: 0.9850 - val_loss: 0.4545 - val_accuracy: 0.8777\n",
            "Epoch 12/20\n",
            "30/30 [==============================] - 2s 80ms/step - loss: 0.0405 - accuracy: 0.9873 - val_loss: 0.4615 - val_accuracy: 0.8766\n",
            "Epoch 13/20\n",
            "30/30 [==============================] - 1s 45ms/step - loss: 0.0291 - accuracy: 0.9915 - val_loss: 0.4679 - val_accuracy: 0.8737\n",
            "Epoch 14/20\n",
            "30/30 [==============================] - 1s 46ms/step - loss: 0.0243 - accuracy: 0.9935 - val_loss: 0.5186 - val_accuracy: 0.8778\n",
            "Epoch 15/20\n",
            "30/30 [==============================] - 1s 46ms/step - loss: 0.0171 - accuracy: 0.9951 - val_loss: 0.5310 - val_accuracy: 0.8728\n",
            "Epoch 16/20\n",
            "30/30 [==============================] - 1s 45ms/step - loss: 0.0211 - accuracy: 0.9934 - val_loss: 0.5498 - val_accuracy: 0.8726\n",
            "Epoch 17/20\n",
            "30/30 [==============================] - 1s 47ms/step - loss: 0.0078 - accuracy: 0.9990 - val_loss: 0.6173 - val_accuracy: 0.8720\n",
            "Epoch 18/20\n",
            "30/30 [==============================] - 1s 46ms/step - loss: 0.0177 - accuracy: 0.9945 - val_loss: 0.6297 - val_accuracy: 0.8745\n",
            "Epoch 19/20\n",
            "30/30 [==============================] - 1s 47ms/step - loss: 0.0054 - accuracy: 0.9993 - val_loss: 0.6969 - val_accuracy: 0.8688\n",
            "Epoch 20/20\n",
            "30/30 [==============================] - 2s 71ms/step - loss: 0.0134 - accuracy: 0.9961 - val_loss: 0.7037 - val_accuracy: 0.8700\n"
          ]
        }
      ]
    },
    {
      "cell_type": "code",
      "source": [
        "#Losses\n",
        "historyp5 = history5.history\n",
        "loss_values = historyp5[\"loss\"]\n",
        "val_loss_values = historyp5[\"val_loss\"]        \n",
        "epochs = range(1, len(loss_values) + 1)\n",
        "plt.plot(epochs, loss_values, \"bo\", label=\"Training loss\")\n",
        "plt.plot(epochs, val_loss_values, \"b\", label=\"Validation loss\")\n",
        "plt.title(\"Training and validation loss\")\n",
        "plt.xlabel(\"Epochs\")\n",
        "plt.ylabel(\"Loss\")\n",
        "plt.legend()\n",
        "plt.show()\n",
        "\n",
        "#Accuracy\n",
        "plt.clf()\n",
        "acc = historyp5[\"accuracy\"]    \n",
        "val_acc = historyp5[\"val_accuracy\"]            \n",
        "plt.plot(epochs, acc, \"bo\", label=\"Training acc\")\n",
        "plt.plot(epochs, val_acc, \"b\", label=\"Validation acc\")\n",
        "plt.title(\"Training and validation accuracy\")\n",
        "plt.xlabel(\"Epochs\")\n",
        "plt.ylabel(\"Accuracy\")\n",
        "plt.legend()\n",
        "plt.show()\n"
      ],
      "metadata": {
        "colab": {
          "base_uri": "https://localhost:8080/",
          "height": 573
        },
        "id": "Cr0wRfeKXujd",
        "outputId": "9b170eda-c09e-4fcb-c56f-c9f752c241ce"
      },
      "execution_count": null,
      "outputs": [
        {
          "output_type": "display_data",
          "data": {
            "text/plain": [
              "<Figure size 432x288 with 1 Axes>"
            ],
            "image/png": "[encoded data removed]"
          },
          "metadata": {
            "needs_background": "light"
          }
        },
        {
          "output_type": "display_data",
          "data": {
            "text/plain": [
              "<Figure size 432x288 with 1 Axes>"
            ],
            "image/png": "[encoded data removed]"
          },
          "metadata": {
            "needs_background": "light"
          }
        }
      ]
    },
    {
      "cell_type": "markdown",
      "source": [
        "Maximum accuracy and minimum validation loss is seen in 3rd epoch \n"
      ],
      "metadata": {
        "id": "GX4Uroy9XyEo"
      }
    },
    {
      "cell_type": "code",
      "source": [
        "results"
      ],
      "metadata": {
        "colab": {
          "base_uri": "https://localhost:8080/"
        },
        "id": "RQJRAdFXXzyy",
        "outputId": "db49e13b-189b-4882-be86-fe615f10897a"
      },
      "execution_count": null,
      "outputs": [
        {
          "output_type": "execute_result",
          "data": {
            "text/plain": [
              "[0.28187671303749084, 0.8885200023651123]"
            ]
          },
          "metadata": {},
          "execution_count": 48
        }
      ]
    }
  ]
}